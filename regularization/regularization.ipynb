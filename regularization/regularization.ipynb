{
 "cells": [
  {
   "cell_type": "markdown",
   "metadata": {},
   "source": [
    "# Regularization: L1 and L2 for regression"
   ]
  },
  {
   "cell_type": "markdown",
   "metadata": {},
   "source": [
    "Regularization is an important topic in modern regression, and in machine learning in general. It formalizes a tradeoff between fitting your training data and complexity (or: the tradeoff between within sample and out of sample fit) in a single objective. As we'll see with L1 regularization, it does a little more than that, adding parsimony as an additional way to control for overfitting."
   ]
  },
  {
   "cell_type": "code",
   "execution_count": 1,
   "metadata": {
    "collapsed": false
   },
   "outputs": [],
   "source": [
    "# This tells matplotlib not to try opening a new window for each plot.\n",
    "%matplotlib inline\n",
    "\n",
    "import matplotlib.pyplot as plt\n",
    "import numpy as np\n",
    "import scipy as sp\n",
    "from sklearn.datasets import load_iris\n",
    "from sklearn.datasets import load_boston\n",
    "from sklearn import tree\n",
    "from sklearn.tree import DecisionTreeClassifier\n",
    "from sklearn.ensemble import RandomForestClassifier \n",
    "from sklearn.ensemble import AdaBoostClassifier \n",
    "\n",
    "from sklearn.linear_model import LinearRegression\n",
    "from sklearn.linear_model import Ridge\n",
    "from sklearn.linear_model import Lasso\n",
    "\n",
    "# For producing decision tree diagrams.\n",
    "from IPython.core.display import Image, display\n",
    "from sklearn.externals.six import StringIO\n"
   ]
  },
  {
   "cell_type": "markdown",
   "metadata": {},
   "source": [
    "Today, we will keep things fake and use simulated data. \n",
    "\n",
    "Why? \n",
    "\n",
    "We'll see later, but in the investigations that follow it is better to know the true model (that is, the true relationship between X and Y) we are trying to recover with our estimation procedures."
   ]
  },
  {
   "cell_type": "code",
   "execution_count": 2,
   "metadata": {
    "collapsed": false
   },
   "outputs": [],
   "source": [
    "# some helper functions we will need for making the data\n",
    "def make_independent_data(dimension=3, n=1000):\n",
    "    '''\n",
    "    Makes independent data in \"dimension\" dimensions\n",
    "    '''\n",
    "    covar = np.diag([10 / float( (i + 1) ** 2) for i in range(dimension)])\n",
    "    dat_i = np.random.multivariate_normal([0 for i in range(dimension)], \n",
    "                                          covar, n)\n",
    "    \n",
    "    return dat_i\n",
    "\n",
    "def make_correlated_data(dimension, phi=0.5, n=1000):\n",
    "    '''\n",
    "    Makes dependent data in \"dimension\" dimensions, correlation between\n",
    "    index-adjacent dimensions controlled with \"phi\"\n",
    "    NOTE: Phi must be between 0 and 1\n",
    "    '''\n",
    "    dat_i = make_independent_data(dimension, n)\n",
    "    \n",
    "    diag_D = np.concatenate([[1], [1 / np.sqrt(1 - phi**2) for i in range(dimension - 1)]])\n",
    "    D = np.diag(diag_D)\n",
    "\n",
    "    fc_L = np.concatenate([[1, phi], [0 for i in range(dimension-2)]])\n",
    "    fr_L = np.concatenate([[1], [0 for i in range(dimension-1)]])\n",
    "\n",
    "    L = sp.linalg.toeplitz(fc_L, fr_L)\n",
    "    S = np.dot(D, L)\n",
    "    \n",
    "    dat_rotated = np.dot(dat_i, S)\n",
    "    \n",
    "    return dat_rotated\n",
    "\n"
   ]
  },
  {
   "cell_type": "code",
   "execution_count": 3,
   "metadata": {
    "collapsed": false
   },
   "outputs": [
    {
     "name": "stdout",
     "output_type": "stream",
     "text": [
      "Here are the true set of linear coefficients for this regression problem:\n",
      "\n",
      "[[ 1.29444638]\n",
      " [ 0.62094893]\n",
      " [ 0.29416916]\n",
      " [-0.70675188]\n",
      " [ 1.59308653]\n",
      " [ 0.16285349]\n",
      " [ 0.22665462]\n",
      " [ 0.24892781]\n",
      " [ 0.85408762]\n",
      " [ 0.6719758 ]\n",
      " [ 0.        ]\n",
      " [ 0.        ]\n",
      " [ 0.        ]\n",
      " [ 0.        ]\n",
      " [ 0.        ]\n",
      " [ 0.        ]\n",
      " [ 0.        ]\n",
      " [ 0.        ]\n",
      " [ 0.        ]\n",
      " [ 0.        ]\n",
      " [ 0.        ]\n",
      " [ 0.        ]\n",
      " [ 0.        ]\n",
      " [ 0.        ]\n",
      " [ 0.        ]\n",
      " [ 0.        ]\n",
      " [ 0.        ]\n",
      " [ 0.        ]\n",
      " [ 0.        ]\n",
      " [ 0.        ]]\n",
      "\n",
      "Note that some feautres have a zero coefficient; they are extra and should\n",
      "not be used, but we do not know that in our analysis\n"
     ]
    }
   ],
   "source": [
    "n_data_points = 600\n",
    "n_features = 10\n",
    "n_noise_features = 20\n",
    "\n",
    "# the following parameter, phi controls how correlated the features are with each other; \n",
    "# note that this implies that some signal features will be correlated with noise features\n",
    "phi = 0.2\n",
    "\n",
    "true_linear_model = np.concatenate((np.random.normal(size=n_features) + 0.3, \n",
    "                                    np.zeros(n_noise_features)))\n",
    "\n",
    "true_linear_model = np.reshape(np.array(true_linear_model), \n",
    "                               newshape=(n_features+n_noise_features, 1))\n",
    "\n",
    "print 'Here are the true set of linear coefficients for this regression problem:\\n'\n",
    "print true_linear_model\n",
    "\n",
    "print '\\nNote that some feautres have a zero coefficient; they are extra and should'\n",
    "print 'not be used, but we do not know that in our analysis'\n",
    "\n",
    "# make the data now\n",
    "X = make_correlated_data(n_features + n_noise_features, phi, n_data_points)\n",
    "\n",
    "# use the features and the coefficients to make the data\n",
    "Y_signal = np.dot(X, true_linear_model)\n",
    "Y_noise = np.reshape(np.random.normal(size=n_data_points), newshape=(n_data_points, 1))\n",
    "Y = np.add(Y_signal, Y_noise)\n",
    "Y = Y.tolist()\n",
    "\n",
    "train_data, train_labels = X[:350], Y[:350]\n",
    "test_data, test_labels = X[350:], Y[350:]"
   ]
  },
  {
   "cell_type": "markdown",
   "metadata": {},
   "source": [
    "**Regularization in general**\n",
    "\n",
    "Typical learning objectives simply optimizes the fit. It looks like (here beta are some parameters that define the model, say the coefficients in linear regression):\n",
    "\n",
    "Objective(beta) = fit(beta)\n",
    "\n",
    "And we do:\n",
    "\n",
    "beta-hat = argmin(Objective(beta))\n",
    "\n",
    "So, we choose the beta that minimizes the objective, that is, provides the best fit to the training data.\n",
    "\n",
    "Regularization simply tweaks this by:\n",
    "\n",
    "RegularizedObjective(beta) = fit(beta) + alpha * penalty(beta)\n",
    "\n",
    "And, as above:\n",
    "\n",
    "regularized-beta-hat = argmin(RegularizedObjective(beta))\n",
    "\n",
    "So, what is the penalty? It is a way to define the complexity of beta. We'll see how complexity is defined below. But, in general, as the fit gets better, the complexity becomes higher, and so the objective nicely formalizes this tradeoff. Alpha is a constant (we'll have to pick it) that defines the strength of this tradeoff."
   ]
  },
  {
   "cell_type": "markdown",
   "metadata": {},
   "source": [
    "## L2 regularization: shrinkage"
   ]
  },
  {
   "cell_type": "markdown",
   "metadata": {},
   "source": [
    "Let's explore the first type of regularization, L2 regularization. It takes the form:\n",
    "\n",
    "Objective(beta) = fit(beta) + alpha * sum_j(beta_j^2)\n",
    "\n",
    "Some useful docs for the following:\n",
    "\n",
    "http://scikit-learn.org/stable/modules/generated/sklearn.linear_model.Ridge.html\n",
    "\n",
    "http://scikit-learn.org/stable/modules/generated/sklearn.linear_model.LinearRegression.html\n"
   ]
  },
  {
   "cell_type": "code",
   "execution_count": 11,
   "metadata": {
    "collapsed": false
   },
   "outputs": [
    {
     "name": "stdout",
     "output_type": "stream",
     "text": [
      "(1, 30)\n",
      "Linear model test MSE:      1.11307636262\n",
      "Ridge regression test MSE:  1.11000847914\n"
     ]
    }
   ],
   "source": [
    "lm = LinearRegression()\n",
    "lm.fit(train_data, train_labels)\n",
    "\n",
    "lm_test_mse = ((lm.predict(test_data) - test_labels) ** 2).mean()\n",
    "\n",
    "rm = Ridge(alpha=0.01, normalize=True)\n",
    "rm.fit(train_data, train_labels)\n",
    "\n",
    "rm_test_mse = ((rm.predict(test_data) - test_labels) ** 2).mean()\n",
    "\n",
    "print rm.coef_.shape\n",
    "\n",
    "print \"Linear model test MSE:     \", lm_test_mse\n",
    "print \"Ridge regression test MSE: \", rm_test_mse"
   ]
  },
  {
   "cell_type": "markdown",
   "metadata": {},
   "source": [
    "Play with the alpha parameter, can you get a lower ridge regression test mse than linear model mse?"
   ]
  },
  {
   "cell_type": "markdown",
   "metadata": {},
   "source": [
    "Now, let's see what happens to the coefficients as alpha changes. Here's an investigation for a single coefficient. What happens to other coefficients? How is this reducing complexity? You can also try out making a *regularization path plot*, see:\n",
    "\n",
    "http://fa.bianp.net/blog/2011/ridge-regression-path/"
   ]
  },
  {
   "cell_type": "code",
   "execution_count": 50,
   "metadata": {
    "collapsed": false
   },
   "outputs": [
    {
     "data": {
      "image/png": "[encoded data removed]",
      "text/plain": [
       "<matplotlib.figure.Figure at 0x10884f250>"
      ]
     },
     "metadata": {},
     "output_type": "display_data"
    }
   ],
   "source": [
    "alpha_vec = [0.001, 0.01, .1, 1, 10, 100, 1000]\n",
    "coef_idx = 3\n",
    "coef_values = np.zeros(len(alpha_vec))\n",
    "lm_coef_line = np.zeros(len(alpha_vec))\n",
    "\n",
    "for aa in enumerate(alpha_vec):\n",
    "    lm = LinearRegression()\n",
    "    lm.fit(train_data, train_labels)\n",
    "\n",
    "    rm = Ridge(alpha=aa[1], normalize=True)\n",
    "    rm.fit(train_data, train_labels)\n",
    "    \n",
    "    rm_coef = rm.coef_[0][coef_idx]\n",
    "    lm_coef = lm.coef_[0][coef_idx]\n",
    " \n",
    "    coef_values[aa[0]] = rm_coef\n",
    "    lm_coef_line[aa[0]] = lm_coef\n",
    "    \n",
    "    \n",
    "plt.plot(np.log(alpha_vec), coef_values)\n",
    "plt.plot(np.log(alpha_vec), lm_coef_line)\n",
    "plt.title('Ridge regularization path\\n for coefficient ' + str(coef_idx) + '; lm value (straight line): ' + str(lm_coef)) \n",
    "plt.ylabel('Coefficient Values') \n",
    "plt.xlabel('Alpha') \n",
    "plt.show()"
   ]
  },
  {
   "cell_type": "code",
   "execution_count": null,
   "metadata": {
    "collapsed": true
   },
   "outputs": [],
   "source": [
    "import numpy as np\n",
    "from scipy import linalg\n",
    "def ridge(A, b, alphas):\n",
    "    \"\"\"\n",
    "    Return coefficients for regularized least squares\n",
    "\n",
    "         min ||A x - b||^2 + alpha ||x||^2\n",
    "\n",
    "    Parameters\n",
    "    ----------\n",
    "    A : array, shape (n, p)\n",
    "    b : array, shape (n,)\n",
    "    alphas : array, shape (k,)\n",
    "\n",
    "    Returns\n",
    "    -------\n",
    "    coef: array, shape (p, k)\n",
    "    \"\"\"\n",
    "    U, s, Vt = linalg.svd(X, full_matrices=False)\n",
    "    d = s / (s[:, np.newaxis].T ** 2 + alphas[:, np.newaxis])\n",
    "    return np.dot(d * U.T.dot(y), Vt).T"
   ]
  },
  {
   "cell_type": "markdown",
   "metadata": {},
   "source": [
    "### L1 Regularization: the lasso; shrinkage and selection"
   ]
  },
  {
   "cell_type": "markdown",
   "metadata": {},
   "source": [
    "Let's explore another type of regularization, L1 regularization. It takes the form:\n",
    "\n",
    "Objective(beta) = fit(beta) + alpha * sum_j(abs(beta_j))\n",
    "\n",
    "Some useful docs for the following:\n",
    "\n",
    "http://scikit-learn.org/stable/modules/generated/sklearn.linear_model.Lasso.html\n",
    "\n",
    "http://scikit-learn.org/stable/modules/generated/sklearn.linear_model.LinearRegression.html\n"
   ]
  },
  {
   "cell_type": "code",
   "execution_count": 51,
   "metadata": {
    "collapsed": false
   },
   "outputs": [
    {
     "name": "stdout",
     "output_type": "stream",
     "text": [
      "Linear model test MSE:  1.11307636262\n",
      "Lasso regression test MSE:  49.3300325952\n"
     ]
    }
   ],
   "source": [
    "lm = LinearRegression()\n",
    "lm.fit(train_data, train_labels)\n",
    "\n",
    "lm_test_mse = ((lm.predict(test_data) - test_labels) ** 2).mean()\n",
    "\n",
    "# try playing with the alpha\n",
    "las = Lasso(alpha=0.0001, normalize=True)\n",
    "las.fit(train_data, train_labels)\n",
    "\n",
    "las_test_mse = ((las.predict(test_data) - test_labels) ** 2).mean()\n",
    "\n",
    "print \"Linear model test MSE: \", lm_test_mse\n",
    "print \"Lasso regression test MSE: \", las_test_mse"
   ]
  },
  {
   "cell_type": "markdown",
   "metadata": {},
   "source": [
    "Play with the alpha parameter, can you get a lower lasso test mse than linear model mse?"
   ]
  },
  {
   "cell_type": "markdown",
   "metadata": {},
   "source": [
    "Now, let's see what happens to the coefficients as alpha changes. Here's an investigation for a single coefficient. What happens to other coefficients? How is this reducing complexity?"
   ]
  },
  {
   "cell_type": "code",
   "execution_count": 56,
   "metadata": {
    "collapsed": false
   },
   "outputs": [
    {
     "data": {
      "image/png": "[encoded data removed]",
      "text/plain": [
       "<matplotlib.figure.Figure at 0x10846d410>"
      ]
     },
     "metadata": {},
     "output_type": "display_data"
    }
   ],
   "source": [
    "# you can try some more here...\n",
    "alpha_vec = [0.001, 0.002, 0.003, 0.004, 0.005, 0.01, 0.1, 0.5]\n",
    "\n",
    "# we pick a coefficient index, and we'll just look at this one\n",
    "coef_idx = 10\n",
    "coef_values = np.zeros(len(alpha_vec))\n",
    "\n",
    "for aa in enumerate(alpha_vec):\n",
    "    lm = LinearRegression()\n",
    "    lm.fit(train_data, train_labels)\n",
    "\n",
    "    las = Lasso(alpha=aa[1])\n",
    "    las.fit(train_data, train_labels)\n",
    "\n",
    "    las_coef = las.coef_[coef_idx]\n",
    "    lm_coef = lm.coef_[0][coef_idx]\n",
    "    \n",
    "    coef_values[aa[0]] = las_coef\n",
    "    \n",
    "    #print lm_coef, rm_coef\n",
    "    \n",
    "plt.plot(np.log(alpha_vec), coef_values)\n",
    "plt.title('Lasso regularization path\\n for coefficient ' + str(coef_idx) + '; lm value: ' + str(lm_coef)) \n",
    "plt.ylabel('Coefficient Values') \n",
    "plt.xlabel('log(Alpha)') \n",
    "plt.show()\n"
   ]
  },
  {
   "cell_type": "markdown",
   "metadata": {},
   "source": [
    "Something you should notice above is that the lasso sets coefficients to zero. There's a nice geometric interpretation of this fact, check out figure 3.12 here:\n",
    "\n",
    "https://onlinecourses.science.psu.edu/stat857/node/158\n",
    "\n",
    "Now that you know the lasso does *selection* as well as *shrinkage* (like ridge regression did), you can appreciate the original simulation.\n",
    "\n",
    "Take a look back at the original data generation process. You'll see many of the features don't play any role in the true model. Can we get the lasso to drop those features?\n",
    "\n",
    "Try the below code, can you get lasso to drop all those useless covariates? Do you need a high alpha? Or a low alpha?\n",
    "\n",
    "Does dropping the useleess covariates improve the prediction properties of the model?"
   ]
  },
  {
   "cell_type": "code",
   "execution_count": 69,
   "metadata": {
    "collapsed": false
   },
   "outputs": [
    {
     "name": "stdout",
     "output_type": "stream",
     "text": [
      "index of nonzero linear regression variables: \n",
      "(array([ 0,  1,  2,  3,  4,  5,  6,  7,  8,  9, 10, 11, 12, 13, 14, 15, 16,\n",
      "       17, 18, 19, 20, 21, 22, 23, 24, 25, 26, 27, 28, 29]),)\n",
      "index of nonzero lasso variables: \n",
      "(array([0, 1, 2, 3, 4, 5, 6, 8, 9]),)\n",
      "Linear model test MSE:  1.11307636262\n",
      "Lasso regression test MSE:  46.7684794989\n"
     ]
    }
   ],
   "source": [
    "lm = LinearRegression()\n",
    "lm.fit(train_data, train_labels)\n",
    "\n",
    "las = Lasso(alpha=0.01, normalize=True)\n",
    "las.fit(train_data, train_labels)\n",
    "\n",
    "las_coef = las.coef_\n",
    "lm_coef = lm.coef_[0.1]\n",
    "\n",
    "# these are the indices of nonzero entries of the coefficient vector; which variables has the lasso dropped?\n",
    "print 'index of nonzero linear regression variables: \\n', np.where(lm_coef != 0)\n",
    "print 'index of nonzero lasso variables: \\n', np.where(las_coef != 0)\n",
    "\n",
    "lm_test_mse = ((lm.predict(test_data) - test_labels) ** 2).mean()\n",
    "las_test_mse = ((las.predict(test_data) - test_labels) ** 2).mean()\n",
    "\n",
    "print \"Linear model test MSE: \", lm_test_mse\n",
    "print \"Lasso regression test MSE: \", las_test_mse"
   ]
  },
  {
   "cell_type": "code",
   "execution_count": null,
   "metadata": {
    "collapsed": true
   },
   "outputs": [],
   "source": []
  }
 ],
 "metadata": {
  "kernelspec": {
   "display_name": "Python 2",
   "language": "python",
   "name": "python2"
  },
  "language_info": {
   "codemirror_mode": {
    "name": "ipython",
    "version": 2
   },
   "file_extension": ".py",
   "mimetype": "text/x-python",
   "name": "python",
   "nbconvert_exporter": "python",
   "pygments_lexer": "ipython2",
   "version": "2.7.10"
  }
 },
 "nbformat": 4,
 "nbformat_minor": 0
}
